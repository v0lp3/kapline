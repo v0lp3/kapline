{
 "cells": [
  {
   "cell_type": "code",
   "execution_count": 1,
   "metadata": {
    "id": "AoItaf7bVsay"
   },
   "outputs": [],
   "source": [
    "!apt-get install openjdk-8-jdk-headless -qq > /dev/null"
   ]
  },
  {
   "cell_type": "code",
   "execution_count": 2,
   "metadata": {
    "id": "oouFbV5yg7-g"
   },
   "outputs": [],
   "source": [
    "!wget -q https://archive.apache.org/dist/spark/spark-3.2.1/spark-3.2.1-bin-hadoop3.2.tgz"
   ]
  },
  {
   "cell_type": "code",
   "execution_count": 3,
   "metadata": {
    "id": "clQBelAYbJ9G"
   },
   "outputs": [],
   "source": [
    "!tar xf spark-3.2.1-bin-hadoop3.2.tgz"
   ]
  },
  {
   "cell_type": "code",
   "execution_count": 4,
   "metadata": {
    "id": "_LS2StvXhfKV"
   },
   "outputs": [],
   "source": [
    "import os\n",
    "os.environ[\"JAVA_HOME\"] = \"/usr/lib/jvm/java-8-openjdk-amd64\"\n",
    "os.environ[\"SPARK_HOME\"] = \"/content/spark-3.2.1-bin-hadoop3.2\""
   ]
  },
  {
   "cell_type": "code",
   "execution_count": 5,
   "metadata": {
    "id": "xysmNiuNhjxY"
   },
   "outputs": [],
   "source": [
    "!pip install -q findspark\n",
    "import findspark\n",
    "findspark.init()"
   ]
  },
  {
   "cell_type": "code",
   "execution_count": 6,
   "metadata": {
    "id": "hwsSD8WSR3mS"
   },
   "outputs": [],
   "source": [
    "from pyspark.sql import SparkSession\n",
    "\n",
    "spark = SparkSession.builder.appName('logregconsult').getOrCreate()"
   ]
  },
  {
   "cell_type": "code",
   "execution_count": null,
   "metadata": {
    "colab": {
     "base_uri": "https://localhost:8080/"
    },
    "id": "AVVSg7z-hshV",
    "outputId": "828f8ff8-2386-41f9-c071-277680e12853"
   },
   "outputs": [],
   "source": [
    "data = spark.read.csv('dataset.csv',inferSchema=True,header=True)"
   ]
  },
  {
   "cell_type": "code",
   "execution_count": 8,
   "metadata": {
    "id": "gZXv4E4utixg"
   },
   "outputs": [],
   "source": [
    "from pyspark.ml.feature import VectorAssembler, IndexToString,StringIndexer, VectorIndexer\n",
    "\n",
    "def transform_set(data):\n",
    "  assembler = VectorAssembler(inputCols=[str(i) for i in range(1,205)],outputCol='features')\n",
    "  output = assembler.transform(data)\n",
    "  return output.select('features', 'family')"
   ]
  },
  {
   "cell_type": "code",
   "execution_count": 9,
   "metadata": {
    "colab": {
     "base_uri": "https://localhost:8080/"
    },
    "id": "EvF_XIk1tvOy",
    "outputId": "abb51304-97dd-4099-8e42-6347be577d91"
   },
   "outputs": [
    {
     "name": "stdout",
     "output_type": "stream",
     "text": [
      "+--------------------+------+\n",
      "|            features|family|\n",
      "+--------------------+------+\n",
      "|[0.25,0.0625,0.25...|Benign|\n",
      "|[0.25,0.0625,0.25...|Benign|\n",
      "|[0.0625,0.0625,0....|   SMS|\n",
      "|[0.25,0.0625,0.25...|Benign|\n",
      "|[0.125,0.0625,0.2...|Benign|\n",
      "+--------------------+------+\n",
      "only showing top 5 rows\n",
      "\n",
      "+--------------------+-------+\n",
      "|            features| family|\n",
      "+--------------------+-------+\n",
      "|[0.0625,0.0625,0....|Banking|\n",
      "|[0.125,0.0625,0.0...| Adware|\n",
      "|[0.0625,0.0625,0....|Banking|\n",
      "|[0.0625,0.0625,0....|    SMS|\n",
      "|[0.125,0.0625,0.0...| Adware|\n",
      "+--------------------+-------+\n",
      "only showing top 5 rows\n",
      "\n"
     ]
    }
   ],
   "source": [
    "trainset,testset = data.randomSplit([0.6,0.4])\n",
    "\n",
    "data = transform_set(data)\n",
    "trainset = transform_set(trainset)\n",
    "testset = transform_set(testset)\n",
    "\n",
    "trainset.show(5)\n",
    "testset.show(5)"
   ]
  },
  {
   "cell_type": "code",
   "execution_count": 10,
   "metadata": {
    "id": "Rc2AieaGKd5B"
   },
   "outputs": [],
   "source": [
    "label_indexer = StringIndexer(inputCol='family', outputCol='indexedLabel', handleInvalid=\"keep\").fit(trainset)\n",
    "\n",
    "features_indexer = VectorIndexer(inputCol=\"features\", outputCol=\"indexedFeatures\", maxCategories=5, handleInvalid=\"keep\").fit(trainset)"
   ]
  },
  {
   "cell_type": "code",
   "execution_count": 11,
   "metadata": {
    "colab": {
     "base_uri": "https://localhost:8080/"
    },
    "id": "amO78Oi_tqq3",
    "outputId": "7dfbf77c-ad7f-450b-b70a-b91047f36497"
   },
   "outputs": [
    {
     "name": "stdout",
     "output_type": "stream",
     "text": [
      "+--------------------+------+------------+\n",
      "|            features|family|indexedLabel|\n",
      "+--------------------+------+------------+\n",
      "|[0.25,0.0625,0.25...|Benign|         2.0|\n",
      "|[0.25,0.0625,0.25...|Benign|         2.0|\n",
      "|[0.0625,0.0625,0....|   SMS|         0.0|\n",
      "|[0.25,0.0625,0.25...|Benign|         2.0|\n",
      "|[0.125,0.0625,0.2...|Benign|         2.0|\n",
      "+--------------------+------+------------+\n",
      "only showing top 5 rows\n",
      "\n",
      "+--------------------+------+--------------------+\n",
      "|            features|family|     indexedFeatures|\n",
      "+--------------------+------+--------------------+\n",
      "|[0.25,0.0625,0.25...|Benign|[2.0,0.0,2.0,2.0,...|\n",
      "|[0.25,0.0625,0.25...|Benign|[2.0,0.0,2.0,2.0,...|\n",
      "|[0.0625,0.0625,0....|   SMS|[0.0,0.0,0.0,0.0,...|\n",
      "|[0.25,0.0625,0.25...|Benign|[2.0,0.0,2.0,2.0,...|\n",
      "|[0.125,0.0625,0.2...|Benign|[1.0,0.0,2.0,2.0,...|\n",
      "+--------------------+------+--------------------+\n",
      "only showing top 5 rows\n",
      "\n"
     ]
    }
   ],
   "source": [
    "label_indexer.transform(trainset).show(5)\n",
    "features_indexer.transform(trainset).show(5)"
   ]
  },
  {
   "cell_type": "code",
   "execution_count": 12,
   "metadata": {
    "colab": {
     "base_uri": "https://localhost:8080/"
    },
    "id": "SOH8tmWLt0Wr",
    "outputId": "f9491ea8-d2e0-4532-b568-9c549880dea6"
   },
   "outputs": [
    {
     "name": "stdout",
     "output_type": "stream",
     "text": [
      "['SMS', 'Riskware', 'Benign', 'Banking', 'Adware']\n"
     ]
    }
   ],
   "source": [
    "from pyspark.ml.classification import LogisticRegression\n",
    "\n",
    "\n",
    "logr = LogisticRegression(featuresCol='indexedFeatures', labelCol='indexedLabel')\n",
    "\n",
    "labelConverter = IndexToString(inputCol=\"prediction\", outputCol=\"predictedLabel\", labels=label_indexer.labels)\n",
    "\n",
    "print(label_indexer.labels)"
   ]
  },
  {
   "cell_type": "code",
   "execution_count": 13,
   "metadata": {
    "id": "Dc_p3ytRLWpj"
   },
   "outputs": [],
   "source": [
    "from pyspark.ml import Pipeline\n",
    "\n",
    "pipeline = Pipeline(stages=[label_indexer, features_indexer, logr,labelConverter])\n",
    "\n",
    "model = pipeline.fit(trainset)"
   ]
  },
  {
   "cell_type": "code",
   "execution_count": 14,
   "metadata": {
    "colab": {
     "base_uri": "https://localhost:8080/"
    },
    "id": "2lhyQgIdLoPd",
    "outputId": "bdcbd7f6-81e2-4d77-c825-81a7d97d3bcb"
   },
   "outputs": [
    {
     "name": "stdout",
     "output_type": "stream",
     "text": [
      "+--------------------+-------+--------------+\n",
      "|            features| family|predictedLabel|\n",
      "+--------------------+-------+--------------+\n",
      "|[0.0625,0.0625,0....|Banking|       Banking|\n",
      "|[0.125,0.0625,0.0...| Adware|        Adware|\n",
      "|[0.0625,0.0625,0....|Banking|       Banking|\n",
      "|[0.0625,0.0625,0....|    SMS|           SMS|\n",
      "|[0.125,0.0625,0.0...| Adware|        Adware|\n",
      "+--------------------+-------+--------------+\n",
      "only showing top 5 rows\n",
      "\n"
     ]
    }
   ],
   "source": [
    "predictions = model.transform(testset)\n",
    "\n",
    "\n",
    "predictions.select(\"features\",\"family\",\"predictedLabel\").show(5)"
   ]
  },
  {
   "cell_type": "code",
   "execution_count": 15,
   "metadata": {
    "colab": {
     "base_uri": "https://localhost:8080/"
    },
    "id": "Ub2Y-ztkMDIX",
    "outputId": "9ce72740-c1a6-4ca8-a079-f25bc890d1cc"
   },
   "outputs": [
    {
     "name": "stdout",
     "output_type": "stream",
     "text": [
      "Test Error = 0.0564226\n"
     ]
    }
   ],
   "source": [
    "from pyspark.ml.evaluation import MulticlassClassificationEvaluator\n",
    "\n",
    "# Select (prediction, true label) and compute test error\n",
    "evaluator = MulticlassClassificationEvaluator(\n",
    "    labelCol=\"indexedLabel\", predictionCol=\"prediction\", metricName=\"accuracy\")\n",
    "accuracy = evaluator.evaluate(predictions)\n",
    "print(\"Test Error = %g\" % (1.0 - accuracy))"
   ]
  },
  {
   "cell_type": "code",
   "execution_count": 16,
   "metadata": {
    "id": "L227Z_igU8HG"
   },
   "outputs": [],
   "source": [
    "import matplotlib.pyplot as plt\n",
    "import numpy as np\n",
    "import itertools\n",
    "\n",
    "def plot_confusion_matrix(cm, classes,\n",
    "                          normalize=False,\n",
    "                          title='Confusion matrix',\n",
    "                          cmap=plt.cm.Blues):\n",
    "    \"\"\"\n",
    "    This function prints and plots the confusion matrix.\n",
    "    Normalization can be applied by setting `normalize=True`.\n",
    "    \"\"\"\n",
    "    if normalize:\n",
    "        cm = cm.astype('float') / cm.sum(axis=1)[:, np.newaxis]\n",
    "        print(\"Normalized confusion matrix\")\n",
    "    else:\n",
    "        print('Confusion matrix, without normalization')\n",
    "\n",
    "    print(cm)\n",
    "\n",
    "    plt.imshow(cm, interpolation='nearest', cmap=cmap)\n",
    "    plt.title(title)\n",
    "    plt.colorbar()\n",
    "    tick_marks = np.arange(len(classes))\n",
    "    plt.xticks(tick_marks, classes, rotation=45)\n",
    "    plt.yticks(tick_marks, classes)\n",
    "\n",
    "    fmt = '.2f' if normalize else 'd'\n",
    "    thresh = cm.max() / 2.\n",
    "    for i, j in itertools.product(range(cm.shape[0]), range(cm.shape[1])):\n",
    "        plt.text(j, i, format(cm[i, j], fmt),\n",
    "                 horizontalalignment=\"center\",\n",
    "                 color=\"white\" if cm[i, j] > thresh else \"black\")\n",
    "\n",
    "    plt.tight_layout()\n",
    "    plt.ylabel('True label')\n",
    "    plt.xlabel('Predicted label')"
   ]
  },
  {
   "cell_type": "code",
   "execution_count": 17,
   "metadata": {
    "colab": {
     "base_uri": "https://localhost:8080/"
    },
    "id": "HvukaoDnU_DT",
    "outputId": "41a06d2f-b8c5-4f11-fdc1-d53bd318bf07"
   },
   "outputs": [
    {
     "name": "stdout",
     "output_type": "stream",
     "text": [
      "['SMS', 'Riskware', 'Benign', 'Banking', 'Adware']\n"
     ]
    }
   ],
   "source": [
    "class_temp = predictions.select(\"family\").groupBy(\"family\")\\\n",
    "                        .count().sort('count', ascending=False).toPandas()\n",
    "class_temp = class_temp[\"family\"].values.tolist()\n",
    "class_names = list(map(str, class_temp))\n",
    "\n",
    "print(class_names)"
   ]
  },
  {
   "cell_type": "code",
   "execution_count": 18,
   "metadata": {
    "colab": {
     "base_uri": "https://localhost:8080/"
    },
    "id": "mYjOMpGTVJwh",
    "outputId": "1b46c0be-8f0d-4798-b6ee-4f02fb5cff12"
   },
   "outputs": [
    {
     "data": {
      "text/plain": [
       "array([[1894,   11,    3,    4,    4],\n",
       "       [  15, 1527,   24,   35,   28],\n",
       "       [   7,   39, 1501,   23,    5],\n",
       "       [  18,   47,   32,  819,   17],\n",
       "       [   7,   27,   10,   20,  547]])"
      ]
     },
     "execution_count": 18,
     "metadata": {},
     "output_type": "execute_result"
    }
   ],
   "source": [
    "from sklearn.metrics import confusion_matrix\n",
    "y_true = predictions.select(\"family\")\n",
    "y_true = y_true.toPandas()\n",
    "\n",
    "y_pred = predictions.select(\"predictedLabel\")\n",
    "y_pred = y_pred.toPandas()\n",
    "\n",
    "cnf_matrix = confusion_matrix(y_true, y_pred,labels=class_names)\n",
    "cnf_matrix"
   ]
  },
  {
   "cell_type": "code",
   "execution_count": 19,
   "metadata": {
    "colab": {
     "base_uri": "https://localhost:8080/",
     "height": 421
    },
    "id": "02rHRYKhVkch",
    "outputId": "950ca5cf-feac-485c-e2a4-b5747f4378db"
   },
   "outputs": [
    {
     "name": "stdout",
     "output_type": "stream",
     "text": [
      "Confusion matrix, without normalization\n",
      "[[1894   11    3    4    4]\n",
      " [  15 1527   24   35   28]\n",
      " [   7   39 1501   23    5]\n",
      " [  18   47   32  819   17]\n",
      " [   7   27   10   20  547]]\n"
     ]
    },
    {
     "data": {
      "image/png": "[encoded data removed]",
      "text/plain": [
       "<Figure size 432x288 with 2 Axes>"
      ]
     },
     "metadata": {
      "needs_background": "light"
     },
     "output_type": "display_data"
    }
   ],
   "source": [
    "plt.figure()\n",
    "plot_confusion_matrix(cnf_matrix, classes=class_names,\n",
    "                      title='Confusion matrix, without normalization')\n",
    "plt.show()"
   ]
  },
  {
   "cell_type": "code",
   "execution_count": 23,
   "metadata": {
    "id": "0Dku9A2a5naM"
   },
   "outputs": [],
   "source": [
    "from pyspark.ml.tuning import CrossValidator, ParamGridBuilder\n",
    "from pyspark.ml.feature import HashingTF\n",
    "\n",
    "paramGrid = ParamGridBuilder() \\\n",
    "    .addGrid(HashingTF.numFeatures, [10, 100, 1000]) \\\n",
    "    .addGrid(logr.regParam, [0.1, 0.01]) \\\n",
    "    .build()\n",
    "cv = CrossValidator(estimator=pipeline, evaluator=MulticlassClassificationEvaluator(\n",
    "    labelCol=\"indexedLabel\", predictionCol=\"prediction\", metricName=\"accuracy\"), estimatorParamMaps=paramGrid)\n",
    "\n",
    "cvModel = cv.fit(data)"
   ]
  },
  {
   "cell_type": "code",
   "execution_count": 25,
   "metadata": {
    "id": "RtuPL433-uwV"
   },
   "outputs": [],
   "source": [
    "model = cvModel.bestModel\n"
   ]
  },
  {
   "cell_type": "code",
   "execution_count": 26,
   "metadata": {
    "id": "pAqE3T9N-8Dt"
   },
   "outputs": [],
   "source": [
    "import shutil\n",
    "\n",
    "model_path = \"./apkAnalysis\"\n",
    "model.write().overwrite().save(model_path)\n",
    "path_drv = shutil.make_archive(\"apkClassification\", format='zip', base_dir=model_path)"
   ]
  }
 ],
 "metadata": {
  "colab": {
   "collapsed_sections": [],
   "name": "Untitled1.ipynb",
   "provenance": []
  },
  "kernelspec": {
   "display_name": "Python 3 (ipykernel)",
   "language": "python",
   "name": "python3"
  },
  "language_info": {
   "codemirror_mode": {
    "name": "ipython",
    "version": 3
   },
   "file_extension": ".py",
   "mimetype": "text/x-python",
   "name": "python",
   "nbconvert_exporter": "python",
   "pygments_lexer": "ipython3",
   "version": "3.10.4"
  }
 },
 "nbformat": 4,
 "nbformat_minor": 4
}
